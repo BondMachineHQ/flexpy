{
 "cells": [
  {
   "cell_type": "code",
   "execution_count": 2,
   "metadata": {},
   "outputs": [],
   "source": [
    "import sympy as sp\n",
    "from sympy import *"
   ]
  },
  {
   "cell_type": "code",
   "execution_count": 66,
   "metadata": {},
   "outputs": [
    {
     "data": {
      "text/plain": [
       "[x, y, z, x*z, 1, x*y, 1/x, x/y]"
      ]
     },
     "execution_count": 66,
     "metadata": {},
     "output_type": "execute_result"
    }
   ],
   "source": [
    "x = Symbol('x', real=True)\n",
    "y = Symbol('y', real=True)\n",
    "z = Symbol('z', real=True)\n",
    "l = Symbol('l', real=True)\n",
    "test = cos(1+x)-x**l\n",
    "# test = sp.parse_expr('x')\n",
    "# test = sp.parsing.sympy_parser.parse_expr('x')\n",
    "expr = sp.Array([[[x, y], [z, x*z]], [[1, x*y], [1/x, x/y]]])\n",
    "type(expr) == sp.tensor.array.dense_ndim_array.ImmutableDenseNDimArray\n",
    "r = expr.rank()\n",
    "els = 1\n",
    "for i in range(r):\n",
    "\tels *= expr.shape[i]\n",
    "\t\t\t\n",
    "ee=flatten(expr)\n",
    "ee"
   ]
  },
  {
   "cell_type": "code",
   "execution_count": 61,
   "metadata": {},
   "outputs": [
    {
     "name": "stdout",
     "output_type": "stream",
     "text": [
      "(Add(cos(Add(Symbol('x', real=True), Integer(1))), Mul(Integer(-1), re(Pow(Symbol('x', real=True), Symbol('l', real=True))))), Mul(Integer(-1), im(Pow(Symbol('x', real=True), Symbol('l', real=True)))))\n"
     ]
    }
   ],
   "source": [
    "print(srepr(test.as_real_imag()))"
   ]
  },
  {
   "cell_type": "code",
   "execution_count": 5,
   "metadata": {},
   "outputs": [
    {
     "name": "stdout",
     "output_type": "stream",
     "text": [
      "(1, 1)\n"
     ]
    }
   ],
   "source": [
    "test = 1 + 1*I\n",
    "test.is_number\n",
    "print(repr(test.as_real_imag()))"
   ]
  },
  {
   "cell_type": "code",
   "execution_count": 6,
   "metadata": {},
   "outputs": [
    {
     "data": {
      "text/plain": [
       "set()"
      ]
     },
     "execution_count": 6,
     "metadata": {},
     "output_type": "execute_result"
    }
   ],
   "source": [
    "test.free_symbols"
   ]
  },
  {
   "cell_type": "code",
   "execution_count": null,
   "metadata": {},
   "outputs": [],
   "source": []
  }
 ],
 "metadata": {
  "kernelspec": {
   "display_name": "qiskit-symb",
   "language": "python",
   "name": "python3"
  },
  "language_info": {
   "codemirror_mode": {
    "name": "ipython",
    "version": 3
   },
   "file_extension": ".py",
   "mimetype": "text/x-python",
   "name": "python",
   "nbconvert_exporter": "python",
   "pygments_lexer": "ipython3",
   "version": "3.13.0"
  }
 },
 "nbformat": 4,
 "nbformat_minor": 2
}
